{
  "nbformat": 4,
  "nbformat_minor": 0,
  "metadata": {
    "colab": {
      "provenance": [],
      "include_colab_link": true
    },
    "kernelspec": {
      "name": "python3",
      "display_name": "Python 3"
    },
    "language_info": {
      "name": "python"
    }
  },
  "cells": [
    {
      "cell_type": "markdown",
      "metadata": {
        "id": "view-in-github",
        "colab_type": "text"
      },
      "source": [
        "<a href=\"https://colab.research.google.com/github/veronikacoding/data-and-python/blob/main/Projects/Female_employment_data_lists.ipynb\" target=\"_parent\"><img src=\"https://colab.research.google.com/assets/colab-badge.svg\" alt=\"Open In Colab\"/></a>"
      ]
    },
    {
      "cell_type": "markdown",
      "source": [
        "# Female employment rates\n",
        "\n",
        "## 1971 to 2023 UK\n",
        "\n",
        "Link to data source: https://www.ons.gov.uk/employmentandlabourmarket/peopleinwork/employmentandemployeetypes/timeseries/lf25/lms\n",
        "\n",
        "The data has been retrieved and used to create a list of dictionary records.  Each record contains a time_period and the female employment rate (seasonally adjusted %) for the UK.\n",
        "\n",
        "Some questions to ask of the data might be how much the percentage of the female population in the workplace has changed since 1971, is the rate of change different in different parts of the year?\n",
        "\n",
        "Run the code cell below to generate, and print, a list of dictionaries, so that you can see the data."
      ],
      "metadata": {
        "id": "gAkgnjgDLQat"
      }
    },
    {
      "cell_type": "code",
      "execution_count": null,
      "metadata": {
        "id": "M9THHgUpLM92"
      },
      "outputs": [],
      "source": [
        "import pandas as pd\n",
        "\n",
        "def get_data():\n",
        "  url = \"https://drive.google.com/uc?id=1aQ8Xy-Sw046j-JCiIOu3ETqrACFsYuCj\"\n",
        "  df = pd.read_csv(url, skiprows=8, header=None)\n",
        "  time_periods = df[0].tolist()\n",
        "  employment = df[1].tolist()\n",
        "  datalist = []\n",
        "  for i in range(len(df)):\n",
        "    datalist.append({\"Time_period\":time_periods[i], \"Employment\":employment[i]})\n",
        "  return datalist\n",
        "\n",
        "employment_data = get_data()\n",
        "for item in employment_data:\n",
        "  print(item)\n",
        "\n"
      ]
    },
    {
      "cell_type": "markdown",
      "source": [
        "There is a collection of different types of time_periods (whole years, years in quarters, months).\n",
        "\n",
        "Observe the lists and then write code to create a set of smaller lists that make some sense.  Here are some ideas:\n",
        "\n",
        "* a list of all the employment figures for whole years\n",
        "* a list of all the employment figures for Q1 for all given years (and another for Q2, etc)\n",
        "* a list of all the employment figures for January for all given years (and another for February, etc)  \n"
      ],
      "metadata": {
        "id": "LB5a3NHkOhF0"
      }
    },
    {
      "cell_type": "code",
      "source": [
        "df = pd.DataFrame(employment_data)\n",
        "#a list of all the employment figures for whole years (the str.match(r'^\\d{4}$') will find any value that has 4 digits only - basically excluding months or quarters)\n",
        "whole_year_figures = df[df[\"Time_period\"].str.match(r'^\\d{4}$')]\n",
        "for index, row in whole_year_figures.iterrows():\n",
        "  print(f'Time_period: {row[\"Time_period\"]}, Employment: {row[\"Employment\"]}')"
      ],
      "metadata": {
        "id": "wUYKr945PjmP"
      },
      "execution_count": null,
      "outputs": []
    },
    {
      "cell_type": "code",
      "source": [
        "#a list of all the employment figures for Q1 for all given years (to change the code to refer to other quarter, please change \"Q1\" to \"Q2\" and so on...)\n",
        "q1_employment_figures = df[df[\"Time_period\"].str.contains(\"Q1\")]\n",
        "for index, row in q1_employment_figures.iterrows():\n",
        "  print(f'Time_period: {row[\"Time_period\"]}, Employment: {row[\"Employment\"]}')"
      ],
      "metadata": {
        "id": "JwO4Ufg7PkXF"
      },
      "execution_count": null,
      "outputs": []
    },
    {
      "cell_type": "code",
      "source": [
        "#a list of all the employment figures for January for all given years (to change the code to refer to other quarter, please change \"JAN\" to \"FEB\" and so on...)\n",
        "q1_employment_figures = df[df[\"Time_period\"].str.contains(\"JAN\")]\n",
        "for index, row in q1_employment_figures.iterrows():\n",
        "  print(f'Time_period: {row[\"Time_period\"]}, Employment: {row[\"Employment\"]}')"
      ],
      "metadata": {
        "id": "rSmSsakKPkkF"
      },
      "execution_count": null,
      "outputs": []
    },
    {
      "cell_type": "markdown",
      "source": [
        "Calculate some statistics from your lists (e.g. mean, max, min, etc for all years, for the same quarter, or month, over all years, etc) and think about correlation between quarter and employment rate - can you show this?"
      ],
      "metadata": {
        "id": "UZABSecuPlM3"
      }
    },
    {
      "cell_type": "code",
      "source": [
        "#yearly statistics:\n",
        "df[\"Year\"] = df[\"Time_period\"].str.extract(r'(\\d{4})')\n",
        "df[\"Quarter\"] = df[\"Time_period\"].str.extract(r'Q(\\d)')\n",
        "df[\"Month\"] = df[\"Time_period\"].str.extract(r'(\\w{3})')\n",
        "\n",
        "group_by_year = df.groupby(\"Year\")\n",
        "yearly_average = group_by_year[\"Employment\"].mean()\n",
        "print(\"The yearly employment rate average for every year are: \")\n",
        "print(yearly_average)"
      ],
      "metadata": {
        "id": "4PJSoyKdQDvX"
      },
      "execution_count": null,
      "outputs": []
    },
    {
      "cell_type": "code",
      "source": [
        "year_with_highest_avg = yearly_average.loc[yearly_average[\"Employment\"].idmax()]\n",
        "print(year_with_highest_avg)"
      ],
      "metadata": {
        "id": "frn4GDTeyFdc",
        "outputId": "cc2cd70b-9bfd-4f28-8dbb-0d1b4e2c6fbf",
        "colab": {
          "base_uri": "https://localhost:8080/",
          "height": 513
        }
      },
      "execution_count": 24,
      "outputs": [
        {
          "output_type": "error",
          "ename": "KeyError",
          "evalue": "ignored",
          "traceback": [
            "\u001b[0;31m---------------------------------------------------------------------------\u001b[0m",
            "\u001b[0;31mKeyError\u001b[0m                                  Traceback (most recent call last)",
            "\u001b[0;32m/usr/local/lib/python3.10/dist-packages/pandas/core/indexes/base.py\u001b[0m in \u001b[0;36mget_loc\u001b[0;34m(self, key, method, tolerance)\u001b[0m\n\u001b[1;32m   3801\u001b[0m             \u001b[0;32mtry\u001b[0m\u001b[0;34m:\u001b[0m\u001b[0;34m\u001b[0m\u001b[0;34m\u001b[0m\u001b[0m\n\u001b[0;32m-> 3802\u001b[0;31m                 \u001b[0;32mreturn\u001b[0m \u001b[0mself\u001b[0m\u001b[0;34m.\u001b[0m\u001b[0m_engine\u001b[0m\u001b[0;34m.\u001b[0m\u001b[0mget_loc\u001b[0m\u001b[0;34m(\u001b[0m\u001b[0mcasted_key\u001b[0m\u001b[0;34m)\u001b[0m\u001b[0;34m\u001b[0m\u001b[0;34m\u001b[0m\u001b[0m\n\u001b[0m\u001b[1;32m   3803\u001b[0m             \u001b[0;32mexcept\u001b[0m \u001b[0mKeyError\u001b[0m \u001b[0;32mas\u001b[0m \u001b[0merr\u001b[0m\u001b[0;34m:\u001b[0m\u001b[0;34m\u001b[0m\u001b[0;34m\u001b[0m\u001b[0m\n",
            "\u001b[0;32m/usr/local/lib/python3.10/dist-packages/pandas/_libs/index.pyx\u001b[0m in \u001b[0;36mpandas._libs.index.IndexEngine.get_loc\u001b[0;34m()\u001b[0m\n",
            "\u001b[0;32m/usr/local/lib/python3.10/dist-packages/pandas/_libs/index.pyx\u001b[0m in \u001b[0;36mpandas._libs.index.IndexEngine.get_loc\u001b[0;34m()\u001b[0m\n",
            "\u001b[0;32mpandas/_libs/hashtable_class_helper.pxi\u001b[0m in \u001b[0;36mpandas._libs.hashtable.PyObjectHashTable.get_item\u001b[0;34m()\u001b[0m\n",
            "\u001b[0;32mpandas/_libs/hashtable_class_helper.pxi\u001b[0m in \u001b[0;36mpandas._libs.hashtable.PyObjectHashTable.get_item\u001b[0;34m()\u001b[0m\n",
            "\u001b[0;31mKeyError\u001b[0m: 'Employment'",
            "\nThe above exception was the direct cause of the following exception:\n",
            "\u001b[0;31mKeyError\u001b[0m                                  Traceback (most recent call last)",
            "\u001b[0;32m<ipython-input-24-24b6e70582ae>\u001b[0m in \u001b[0;36m<cell line: 1>\u001b[0;34m()\u001b[0m\n\u001b[0;32m----> 1\u001b[0;31m \u001b[0myear_with_highest_avg\u001b[0m \u001b[0;34m=\u001b[0m \u001b[0myearly_average\u001b[0m\u001b[0;34m.\u001b[0m\u001b[0mloc\u001b[0m\u001b[0;34m[\u001b[0m\u001b[0myearly_average\u001b[0m\u001b[0;34m[\u001b[0m\u001b[0;34m\"Employment\"\u001b[0m\u001b[0;34m]\u001b[0m\u001b[0;34m.\u001b[0m\u001b[0midmax\u001b[0m\u001b[0;34m(\u001b[0m\u001b[0;34m)\u001b[0m\u001b[0;34m]\u001b[0m\u001b[0;34m\u001b[0m\u001b[0;34m\u001b[0m\u001b[0m\n\u001b[0m\u001b[1;32m      2\u001b[0m \u001b[0mprint\u001b[0m\u001b[0;34m(\u001b[0m\u001b[0myear_with_highest_avg\u001b[0m\u001b[0;34m)\u001b[0m\u001b[0;34m\u001b[0m\u001b[0;34m\u001b[0m\u001b[0m\n",
            "\u001b[0;32m/usr/local/lib/python3.10/dist-packages/pandas/core/series.py\u001b[0m in \u001b[0;36m__getitem__\u001b[0;34m(self, key)\u001b[0m\n\u001b[1;32m    979\u001b[0m \u001b[0;34m\u001b[0m\u001b[0m\n\u001b[1;32m    980\u001b[0m         \u001b[0;32melif\u001b[0m \u001b[0mkey_is_scalar\u001b[0m\u001b[0;34m:\u001b[0m\u001b[0;34m\u001b[0m\u001b[0;34m\u001b[0m\u001b[0m\n\u001b[0;32m--> 981\u001b[0;31m             \u001b[0;32mreturn\u001b[0m \u001b[0mself\u001b[0m\u001b[0;34m.\u001b[0m\u001b[0m_get_value\u001b[0m\u001b[0;34m(\u001b[0m\u001b[0mkey\u001b[0m\u001b[0;34m)\u001b[0m\u001b[0;34m\u001b[0m\u001b[0;34m\u001b[0m\u001b[0m\n\u001b[0m\u001b[1;32m    982\u001b[0m \u001b[0;34m\u001b[0m\u001b[0m\n\u001b[1;32m    983\u001b[0m         \u001b[0;32mif\u001b[0m \u001b[0mis_hashable\u001b[0m\u001b[0;34m(\u001b[0m\u001b[0mkey\u001b[0m\u001b[0;34m)\u001b[0m\u001b[0;34m:\u001b[0m\u001b[0;34m\u001b[0m\u001b[0;34m\u001b[0m\u001b[0m\n",
            "\u001b[0;32m/usr/local/lib/python3.10/dist-packages/pandas/core/series.py\u001b[0m in \u001b[0;36m_get_value\u001b[0;34m(self, label, takeable)\u001b[0m\n\u001b[1;32m   1087\u001b[0m \u001b[0;34m\u001b[0m\u001b[0m\n\u001b[1;32m   1088\u001b[0m         \u001b[0;31m# Similar to Index.get_value, but we do not fall back to positional\u001b[0m\u001b[0;34m\u001b[0m\u001b[0;34m\u001b[0m\u001b[0m\n\u001b[0;32m-> 1089\u001b[0;31m         \u001b[0mloc\u001b[0m \u001b[0;34m=\u001b[0m \u001b[0mself\u001b[0m\u001b[0;34m.\u001b[0m\u001b[0mindex\u001b[0m\u001b[0;34m.\u001b[0m\u001b[0mget_loc\u001b[0m\u001b[0;34m(\u001b[0m\u001b[0mlabel\u001b[0m\u001b[0;34m)\u001b[0m\u001b[0;34m\u001b[0m\u001b[0;34m\u001b[0m\u001b[0m\n\u001b[0m\u001b[1;32m   1090\u001b[0m         \u001b[0;32mreturn\u001b[0m \u001b[0mself\u001b[0m\u001b[0;34m.\u001b[0m\u001b[0mindex\u001b[0m\u001b[0;34m.\u001b[0m\u001b[0m_get_values_for_loc\u001b[0m\u001b[0;34m(\u001b[0m\u001b[0mself\u001b[0m\u001b[0;34m,\u001b[0m \u001b[0mloc\u001b[0m\u001b[0;34m,\u001b[0m \u001b[0mlabel\u001b[0m\u001b[0;34m)\u001b[0m\u001b[0;34m\u001b[0m\u001b[0;34m\u001b[0m\u001b[0m\n\u001b[1;32m   1091\u001b[0m \u001b[0;34m\u001b[0m\u001b[0m\n",
            "\u001b[0;32m/usr/local/lib/python3.10/dist-packages/pandas/core/indexes/base.py\u001b[0m in \u001b[0;36mget_loc\u001b[0;34m(self, key, method, tolerance)\u001b[0m\n\u001b[1;32m   3802\u001b[0m                 \u001b[0;32mreturn\u001b[0m \u001b[0mself\u001b[0m\u001b[0;34m.\u001b[0m\u001b[0m_engine\u001b[0m\u001b[0;34m.\u001b[0m\u001b[0mget_loc\u001b[0m\u001b[0;34m(\u001b[0m\u001b[0mcasted_key\u001b[0m\u001b[0;34m)\u001b[0m\u001b[0;34m\u001b[0m\u001b[0;34m\u001b[0m\u001b[0m\n\u001b[1;32m   3803\u001b[0m             \u001b[0;32mexcept\u001b[0m \u001b[0mKeyError\u001b[0m \u001b[0;32mas\u001b[0m \u001b[0merr\u001b[0m\u001b[0;34m:\u001b[0m\u001b[0;34m\u001b[0m\u001b[0;34m\u001b[0m\u001b[0m\n\u001b[0;32m-> 3804\u001b[0;31m                 \u001b[0;32mraise\u001b[0m \u001b[0mKeyError\u001b[0m\u001b[0;34m(\u001b[0m\u001b[0mkey\u001b[0m\u001b[0;34m)\u001b[0m \u001b[0;32mfrom\u001b[0m \u001b[0merr\u001b[0m\u001b[0;34m\u001b[0m\u001b[0;34m\u001b[0m\u001b[0m\n\u001b[0m\u001b[1;32m   3805\u001b[0m             \u001b[0;32mexcept\u001b[0m \u001b[0mTypeError\u001b[0m\u001b[0;34m:\u001b[0m\u001b[0;34m\u001b[0m\u001b[0;34m\u001b[0m\u001b[0m\n\u001b[1;32m   3806\u001b[0m                 \u001b[0;31m# If we have a listlike key, _check_indexing_error will raise\u001b[0m\u001b[0;34m\u001b[0m\u001b[0;34m\u001b[0m\u001b[0m\n",
            "\u001b[0;31mKeyError\u001b[0m: 'Employment'"
          ]
        }
      ]
    },
    {
      "cell_type": "code",
      "source": [
        "#quarterly statistics:\n",
        "quarterly_mean_in_q1 = q1_employment_figures[\"Employment\"].mean()\n",
        "quarterly_mean_in_q2 = df[df[\"Time_period\"].str.contains(\"Q2\")][\"Employment\"].mean()\n",
        "quarterly_mean_in_q3 = df[df[\"Time_period\"].str.contains(\"Q3\")][\"Employment\"].mean()\n",
        "quarterly_mean_in_q4 = df[df[\"Time_period\"].str.contains(\"Q4\")][\"Employment\"].mean()\n",
        "print(\"The quarterly means between quarter in all years are: \")\n",
        "print(quarterly_mean_in_q1)\n",
        "print(quarterly_mean_in_q2)\n",
        "print(quarterly_mean_in_q3)\n",
        "print(quarterly_mean_in_q4)\n",
        "print(\"This shows that there isn't a big difference between which quarter (Q1 or Q2 etc.) we are considering as employment rate is averaging out amongst the quarters\")"
      ],
      "metadata": {
        "id": "3wW0k9a1whog"
      },
      "execution_count": null,
      "outputs": []
    },
    {
      "cell_type": "code",
      "source": [],
      "metadata": {
        "id": "ugvRKlG-QD4v"
      },
      "execution_count": null,
      "outputs": []
    },
    {
      "cell_type": "markdown",
      "source": [
        "Think about how you might visualise something like the average for each quarter over the years available.  Maybe you can print a number of stars on a line for each 1%?  e.g.\n",
        "\n",
        "```\n",
        "Q1 ***************************************************\n",
        "Q2 **********************************************************\n",
        "Q3 *****************************************************************\n",
        "Q4 ***************************************************\n",
        "```\n"
      ],
      "metadata": {
        "id": "YBTg498rQET9"
      }
    }
  ]
}
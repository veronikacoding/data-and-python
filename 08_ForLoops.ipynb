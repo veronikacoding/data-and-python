{
  "cells": [
    {
      "cell_type": "markdown",
      "metadata": {
        "id": "Vvcpt-18AqVE"
      },
      "source": [
        "<a href=\"https://colab.research.google.com/github/StefanMeyer7/Python-Fundamentals/blob/main/ForLoops.ipynb\" target=\"_parent\"><img src=\"https://colab.research.google.com/assets/colab-badge.svg\" alt=\"Open In Colab\"/></a>"
      ]
    },
    {
      "cell_type": "markdown",
      "metadata": {
        "id": "bDcH7d1fQkv4"
      },
      "source": [
        "# For Loops\n",
        "\n",
        "---\n"
      ]
    },
    {
      "cell_type": "markdown",
      "metadata": {
        "id": "827YLWj3QmTZ"
      },
      "source": [
        "When you know how many times a loop should run you can use a *for* loop.  \n",
        "\n",
        "Here is an example:  \n",
        "\n",
        "Suppose we want to read 10 numbers from the keyboard, add them up and print the total. We can use a *for* loop as we know that we want to read from the keyboard exactly 10 times.\n",
        "\n",
        "The logic is:"
      ]
    },
    {
      "cell_type": "code",
      "execution_count": 3,
      "metadata": {
        "id": "z2Nt1I_9Qox6",
        "outputId": "206cad14-403e-44ee-bee4-fa9a024e0694",
        "colab": {
          "base_uri": "https://localhost:8080/"
        }
      },
      "outputs": [
        {
          "output_type": "stream",
          "name": "stdout",
          "text": [
            "Enter a number1\n",
            "Enter a number1\n",
            "Enter a number1\n",
            "Enter a number1\n",
            "Enter a number1\n",
            "Enter a number1\n",
            "Enter a number1\n",
            "Enter a number1\n",
            "Enter a number1\n",
            "Enter a number1\n",
            "10\n"
          ]
        }
      ],
      "source": [
        "# initialise a total so that it starts at 0\n",
        "# read 10 numbers from the keyboard and keep a running total\n",
        "# print the total\n",
        "\n",
        "def read_ten_nums():\n",
        "  total = 0\n",
        "  for i in range(10):\n",
        "    num = int(input(\"Enter a number\"))\n",
        "    total = total + num\n",
        "  print(total)\n",
        "\n",
        "read_ten_nums()"
      ]
    },
    {
      "cell_type": "markdown",
      "metadata": {
        "id": "cWuyG25-QrFQ"
      },
      "source": [
        "The *for* loop here repeats 10 times. Each time round the loop, a number is read and is added to the total. After this has happened 10 times, the total will be printed.\n",
        "\n",
        "Notice that all the code to be repeated in the loop is indented, but the instruction to print is not indented like the lines above. This is because print(total) is not included in the loop, it should only run once.\n",
        "\n",
        "You can use a *for* loop on Strings too:"
      ]
    },
    {
      "cell_type": "code",
      "execution_count": 4,
      "metadata": {
        "id": "w37H9F5gQsrq",
        "outputId": "df67abd0-c1b2-4ecb-a4d0-8fae60263482",
        "colab": {
          "base_uri": "https://localhost:8080/"
        }
      },
      "outputs": [
        {
          "output_type": "stream",
          "name": "stdout",
          "text": [
            "l\n",
            "e\n",
            "a\n",
            "r\n",
            "n\n",
            "i\n",
            "n\n",
            "g\n"
          ]
        }
      ],
      "source": [
        "def print_characters():\n",
        "  word = \"learning\"\n",
        "  for letter in word:\n",
        "    print(letter)\n",
        "print_characters()"
      ]
    },
    {
      "cell_type": "markdown",
      "metadata": {
        "id": "OhSyHe5HQuMs"
      },
      "source": [
        "### Using the range() function:\n",
        "\n",
        "If we would like a selection of numbers within a defined range we can use the **range()** function.\n",
        "\n",
        "It can be used in the following ways:\n",
        "\n",
        "* **range(n)** - this would give all numbers in the range 0 to n-1\n",
        "\n",
        "* **range(num1, num2)** - this would give all numbers in range num1 to num2-1\n",
        "\n",
        "For example:\n",
        "\n",
        "If we wanted numbers within the range of 1 - 5 we would write this as range(1, 6)\n",
        "\n",
        "* the second argument must always be the number you would like the range to go up to + 1 (n+1)\n",
        "\n",
        "Here is an example that prints all the numbers up to 5, (starting at 0 as this is the default if there is no other information).  Run the code below:"
      ]
    },
    {
      "cell_type": "code",
      "execution_count": 5,
      "metadata": {
        "id": "d1d5HRx6Qu2J",
        "outputId": "5fd5afc4-c371-4b2f-f6fe-ab709043baff",
        "colab": {
          "base_uri": "https://localhost:8080/"
        }
      },
      "outputs": [
        {
          "output_type": "stream",
          "name": "stdout",
          "text": [
            "0\n",
            "1\n",
            "2\n",
            "3\n",
            "4\n",
            "5\n"
          ]
        }
      ],
      "source": [
        "def show_range():\n",
        "  for i in range(6):\n",
        "    print(i)\n",
        "\n",
        "show_range()"
      ]
    },
    {
      "cell_type": "markdown",
      "metadata": {
        "id": "z-EVs9RQQwSX"
      },
      "source": [
        "Here is an example that prints all numbers in range 1 - 5, run the code below:"
      ]
    },
    {
      "cell_type": "code",
      "execution_count": 6,
      "metadata": {
        "id": "OcIe8c1YQyI0",
        "outputId": "a9728238-41fa-4ff2-eec0-77a1d3c2904a",
        "colab": {
          "base_uri": "https://localhost:8080/"
        }
      },
      "outputs": [
        {
          "output_type": "stream",
          "name": "stdout",
          "text": [
            "1\n",
            "2\n",
            "3\n",
            "4\n",
            "5\n"
          ]
        }
      ],
      "source": [
        "def show_range():\n",
        "  for i in range(1, 6):\n",
        "    print(i)\n",
        "\n",
        "show_range()"
      ]
    },
    {
      "cell_type": "markdown",
      "metadata": {
        "id": "aqvZTD71QzXY"
      },
      "source": [
        "## Using steps\n",
        "\n",
        "In general, if we use a range, we give a starting number and a stopping number (the first number that is out of the range in the direction we are counting).  The default is to count up in 1s.  \n",
        "\n",
        "When we want a loop to count in bigger steps, we can add a further parameter in the range brackets, which represents the size of the step.\n",
        "\n",
        "e.g. to print the even numbers up to 10 (starting with the first even number)\n",
        "\n",
        "```\n",
        "for i in range(2,11,2):\n",
        "   print(i)\n",
        "```\n",
        "\n",
        "e.g. to print all multiples of 5 from 5 to 50 (starting with the first multiple)\n",
        "\n",
        "\n",
        "```\n",
        "for i in range(5,51,5):\n",
        "   print(i)\n",
        "```\n",
        "\n",
        "We can use steps to **reverse** the direction of counting.  So to count backwards from 10 to 1, we can use a step of -1.  Again, use the starting number, the number AFTER the last number to be included, in the direction we are counting, and the size and direction of the step.\n",
        "\n",
        "```\n",
        "for i in range(10, 0, -1):\n",
        "   print(i)\n",
        "```"
      ]
    },
    {
      "cell_type": "markdown",
      "metadata": {
        "id": "oH55yDWBQ1rg"
      },
      "source": [
        "### Take home point\n",
        "\n",
        "* we use *for* loops to make a section of code repeat a set number of times\n"
      ]
    },
    {
      "cell_type": "markdown",
      "metadata": {
        "id": "xl3GjgTMQ21w"
      },
      "source": [
        "---\n",
        "### Exercise 1 - number list\n",
        "\n",
        "Write a function called **list_numbers()** which will:  \n",
        "\n",
        "*  print all the whole numbers up to 9  \n",
        "\n",
        "Expected output:  \n",
        "0  \n",
        "1  \n",
        "2  \n",
        "3  \n",
        "4  \n",
        "5  \n",
        "6  \n",
        "7  \n",
        "8  \n",
        "9  "
      ]
    },
    {
      "cell_type": "code",
      "execution_count": 7,
      "metadata": {
        "id": "bZDYaPXlQ3sP",
        "outputId": "6a609c5e-1008-4541-b29a-f0808a99663e",
        "colab": {
          "base_uri": "https://localhost:8080/"
        }
      },
      "outputs": [
        {
          "output_type": "stream",
          "name": "stdout",
          "text": [
            "0\n",
            "1\n",
            "2\n",
            "3\n",
            "4\n",
            "5\n",
            "6\n",
            "7\n",
            "8\n",
            "9\n"
          ]
        }
      ],
      "source": [
        "def list_numbers():\n",
        "  for i in range(10):\n",
        "    print(i)\n",
        "\n",
        "list_numbers()"
      ]
    },
    {
      "cell_type": "markdown",
      "metadata": {
        "id": "aspfx0_6Q5Zu"
      },
      "source": [
        "---\n",
        "### Exercise 2 - list number range  \n",
        "\n",
        "Write a function called **list_number_range()** which will:  \n",
        "\n",
        "* print the numbers between 5 and 15 (including both)  \n",
        "\n",
        "Expected output:  \n",
        "5  \n",
        "6  \n",
        "7  \n",
        "8  \n",
        "9  \n",
        "10  \n",
        "11  \n",
        "12  \n",
        "13  \n",
        "14  \n",
        "15  \n",
        "\n"
      ]
    },
    {
      "cell_type": "code",
      "execution_count": 8,
      "metadata": {
        "id": "SC_XNzioQ6Dg",
        "outputId": "4643e88a-ab8f-4e30-a58f-8cc318da4e14",
        "colab": {
          "base_uri": "https://localhost:8080/"
        }
      },
      "outputs": [
        {
          "output_type": "stream",
          "name": "stdout",
          "text": [
            "5\n",
            "6\n",
            "7\n",
            "8\n",
            "9\n",
            "10\n",
            "11\n",
            "12\n",
            "13\n",
            "14\n",
            "15\n"
          ]
        }
      ],
      "source": [
        "def list_number_range():\n",
        "  for i in range(5,16):\n",
        "    print(i)\n",
        "\n",
        "list_number_range()"
      ]
    },
    {
      "cell_type": "markdown",
      "metadata": {
        "id": "gveQHu_7Q7o3"
      },
      "source": [
        "---\n",
        "### Exercise 3 - list evens  \n",
        "\n",
        "Write a function called **list_evens()** which will:  \n",
        "\n",
        "*  print the even numbers from 2 to 20  \n",
        "\n",
        "Expected output:  \n",
        "2  \n",
        "4  \n",
        "6  \n",
        "8  \n",
        "10  \n",
        "12  \n",
        "14  \n",
        "16  \n",
        "18  \n",
        "20  "
      ]
    },
    {
      "cell_type": "code",
      "execution_count": 9,
      "metadata": {
        "id": "XVrcH5nfQ9ZK",
        "outputId": "a119b516-0336-46e1-b827-abc709a9fd97",
        "colab": {
          "base_uri": "https://localhost:8080/"
        }
      },
      "outputs": [
        {
          "output_type": "stream",
          "name": "stdout",
          "text": [
            "2\n",
            "4\n",
            "6\n",
            "8\n",
            "10\n",
            "12\n",
            "14\n",
            "16\n",
            "18\n",
            "20\n"
          ]
        }
      ],
      "source": [
        "def list_evens():\n",
        "  for i in range(2,21,2):\n",
        "    print(i)\n",
        "\n",
        "list_evens()"
      ]
    },
    {
      "cell_type": "markdown",
      "metadata": {
        "id": "hp5HUcqEQ9f5"
      },
      "source": [
        "---\n",
        "### Exercise 4 - list multiples  \n",
        "\n",
        "Write a function called **list_multiples()** which will:\n",
        "\n",
        "*  list the multiples of 3 from 3 to 36\n",
        "\n",
        "Expected output:  \n",
        "3  \n",
        "6  \n",
        "9  \n",
        "12  \n",
        "15  \n",
        "18  \n",
        "21  \n",
        "24  \n",
        "27  \n",
        "30  \n",
        "33  \n",
        "36  "
      ]
    },
    {
      "cell_type": "code",
      "execution_count": 10,
      "metadata": {
        "id": "VW44o2__Q_P4",
        "outputId": "01f1f1d9-3950-49cb-e5bc-b6fa42d9e60f",
        "colab": {
          "base_uri": "https://localhost:8080/"
        }
      },
      "outputs": [
        {
          "output_type": "stream",
          "name": "stdout",
          "text": [
            "3\n",
            "6\n",
            "9\n",
            "12\n",
            "15\n",
            "18\n",
            "21\n",
            "24\n",
            "27\n",
            "30\n",
            "33\n",
            "36\n"
          ]
        }
      ],
      "source": [
        "def list_multiples():\n",
        "  for i in range(3,37,3):\n",
        "    print(i)\n",
        "\n",
        "list_multiples()"
      ]
    },
    {
      "cell_type": "markdown",
      "metadata": {
        "id": "jO5gqZASQ_rp"
      },
      "source": [
        "---\n",
        "### Exercise 5 - reverse list\n",
        "\n",
        "Write a function called list_reverse() which will:\n",
        "\n",
        "*  print the numbers 5 to 15 in reverse\n",
        "\n",
        "Expected output:  \n",
        "15  \n",
        "14  \n",
        "13  \n",
        "12  \n",
        "11  \n",
        "10  \n",
        "9  \n",
        "8  \n",
        "7  \n",
        "6  \n",
        "5  "
      ]
    },
    {
      "cell_type": "code",
      "execution_count": 11,
      "metadata": {
        "id": "qXff6eefRBLq",
        "outputId": "699e7aae-1927-4e92-b4ad-0aaad2b1cea7",
        "colab": {
          "base_uri": "https://localhost:8080/"
        }
      },
      "outputs": [
        {
          "output_type": "stream",
          "name": "stdout",
          "text": [
            "15\n",
            "14\n",
            "13\n",
            "12\n",
            "11\n",
            "10\n",
            "9\n",
            "8\n",
            "7\n",
            "6\n",
            "5\n"
          ]
        }
      ],
      "source": [
        "def list_reverse():\n",
        "  for i in range(15,4,-1):\n",
        "    print(i)\n",
        "\n",
        "list_reverse()"
      ]
    },
    {
      "cell_type": "markdown",
      "metadata": {
        "id": "6dJLOeUdRBnd"
      },
      "source": [
        "---\n",
        "### Exercise 6 - sum of range\n",
        "\n",
        "Write the function **calculate_sum_of()** which will:\n",
        "\n",
        "*  set a total to 0\n",
        "*  use the `range()` function for all the numbers between 1 - 15, adding each onto a **total** in the `for loop`     \n",
        "*  print the `total`   \n",
        "\n",
        "\n",
        "Expected output:  \n",
        "120\n"
      ]
    },
    {
      "cell_type": "code",
      "execution_count": 18,
      "metadata": {
        "id": "bVC7rO7BRC2Z",
        "outputId": "4b5c6f9c-b8d9-44c8-a35e-7b33e7c64390",
        "colab": {
          "base_uri": "https://localhost:8080/"
        }
      },
      "outputs": [
        {
          "output_type": "stream",
          "name": "stdout",
          "text": [
            "120\n"
          ]
        }
      ],
      "source": [
        "def calculate_sum_of():\n",
        "  total = 0\n",
        "  for i in range(16):\n",
        "    total = total + i\n",
        "  print(total)\n",
        "\n",
        "calculate_sum_of()\n"
      ]
    },
    {
      "cell_type": "markdown",
      "metadata": {
        "id": "r1v2ApqqRDR5"
      },
      "source": [
        "### Exercise 7 - calculating the average of 5 numbers   \n",
        "\n",
        "Write a function called **average()** which will:  \n",
        "\n",
        "*  set a total to 0\n",
        "*  ask the user to enter a number 5 times, using a `for loop` with a range and adding the numbers to the `total` as the loop continues  \n",
        "*  calculate the **average** of the 5 numbers  \n",
        "*  print the `total` and `average`  \n",
        "\n",
        "Test input:  \n",
        "1  \n",
        "2   \n",
        "3  \n",
        "4  \n",
        "5  \n",
        "\n",
        "Expected output:   \n",
        "3  \n",
        "\n"
      ]
    },
    {
      "cell_type": "code",
      "execution_count": 41,
      "metadata": {
        "id": "3tXXZdZRRFCE",
        "outputId": "8b3f11fa-3c3f-4dbb-e8f4-b862c1df0d34",
        "colab": {
          "base_uri": "https://localhost:8080/"
        }
      },
      "outputs": [
        {
          "output_type": "stream",
          "name": "stdout",
          "text": [
            "Enter a number: 1\n",
            "Enter a number: 2\n",
            "Enter a number: 3\n",
            "Enter a number: 4\n",
            "Enter a number: 5\n",
            "3\n"
          ]
        }
      ],
      "source": [
        "def average():\n",
        "  total = 0\n",
        "  for i in range(5):\n",
        "    number = int(input(\"Enter a number: \"))\n",
        "    total = total + number\n",
        "  average = total/5\n",
        "  print(round(average))\n",
        "average()\n"
      ]
    },
    {
      "cell_type": "markdown",
      "metadata": {
        "id": "MMLz5iTtRFJY"
      },
      "source": [
        "### Exercise 8 - calculating times table\n",
        "\n",
        "Write a function called **display_times_table()** which will:  \n",
        "\n",
        "*  ask the user to input a **number**\n",
        "*  use a for loop and the `range()` function to calculate the first ten multiples of that number and print a times table entry as shown below\n",
        "\n",
        "Test Input:  \n",
        "4  \n",
        "\n",
        "Expected output:  \n",
        "1 x 4 = 4  \n",
        "2 x 4 = 8  \n",
        "3 x 4 = 12  \n",
        "4 x 4 = 16  \n",
        "5 x 4 = 20  \n",
        "6 x 4 = 24  \n",
        "7 x 4 = 28  \n",
        "8 x 4 = 32  \n",
        "9 x 4 = 36  \n",
        "10 x 4 = 40  "
      ]
    },
    {
      "cell_type": "code",
      "execution_count": 47,
      "metadata": {
        "id": "lrIgE20tRG1E",
        "outputId": "dec2c994-f23b-4f61-bef1-e09ab1cd6349",
        "colab": {
          "base_uri": "https://localhost:8080/"
        }
      },
      "outputs": [
        {
          "output_type": "stream",
          "name": "stdout",
          "text": [
            "Enter a number: 4\n",
            "1  x  4  =  4\n",
            "2  x  4  =  8\n",
            "3  x  4  =  12\n",
            "4  x  4  =  16\n",
            "5  x  4  =  20\n",
            "6  x  4  =  24\n",
            "7  x  4  =  28\n",
            "8  x  4  =  32\n",
            "9  x  4  =  36\n",
            "10  x  4  =  40\n"
          ]
        }
      ],
      "source": [
        "def display_times_table():\n",
        "  number = int(input(\"Enter a number: \"))\n",
        "  for i in range(1, 11):\n",
        "    print(i,\" x \", number, \" = \", number*i)\n",
        "display_times_table()"
      ]
    },
    {
      "cell_type": "markdown",
      "metadata": {
        "id": "uc66qYozRHWv"
      },
      "source": [
        "### Exercise 9 - counting down numbers in reverse\n",
        "\n",
        "Write a function called **countdown()** which will:\n",
        "\n",
        "*  ask the user to input a **number**\n",
        "*  prints numbers in a countdown starting at `number`, decreasing by 1 each time round the loop and finishing at 1\n",
        "*  after the loop, print (\"GO\")\n",
        "\n",
        "Test Input:  \n",
        "9    \n",
        "\n",
        "Expected output:   \n",
        "9  \n",
        "8  \n",
        "7  \n",
        "6  \n",
        "5  \n",
        "4  \n",
        "3  \n",
        "2  \n",
        "1  \n",
        "GO  \n"
      ]
    },
    {
      "cell_type": "code",
      "execution_count": 52,
      "metadata": {
        "id": "J6kJ9Wa-RIWI",
        "outputId": "d4fbc279-6396-4514-f8b6-70eeef36e62b",
        "colab": {
          "base_uri": "https://localhost:8080/"
        }
      },
      "outputs": [
        {
          "output_type": "stream",
          "name": "stdout",
          "text": [
            "Enter a number: 9\n",
            "9\n",
            "8\n",
            "7\n",
            "6\n",
            "5\n",
            "4\n",
            "3\n",
            "2\n",
            "1\n",
            "GO\n"
          ]
        }
      ],
      "source": [
        "def countdown():\n",
        "  number = int(input(\"Enter a number: \"))\n",
        "  for i in range(9,0,-1):\n",
        "    print(i)\n",
        "  print(\"GO\")\n",
        "countdown()"
      ]
    },
    {
      "cell_type": "markdown",
      "metadata": {
        "id": "Ekag7shxRJX4"
      },
      "source": [
        "### Exercise 10 - finding numbers which are multiples of both 3 and 10, between 500 and 1500  \n",
        "\n",
        "Write a function called **find_multiples()** which will find numbers between 500 - 1500 which are multiples of 3 and multiples of 10:\n",
        "\n",
        "*  use a for loop and the `range()` function  \n",
        "*  use an *if* statment to determine if a number is a multiple of 3 (number % 3 is 0) and a multiple of 10 (calculated the same way).  If the number is a multiple of 3 and 10, print it.      \n",
        "\n",
        "Expected output:  \n",
        "510  \n",
        "540  \n",
        "570  \n",
        "600  \n",
        "630  \n",
        "660  \n",
        "690  \n",
        "720  \n",
        "750  \n",
        "780  \n",
        "810  \n",
        "840  \n",
        "870  \n",
        "900  \n",
        "930  \n",
        "960  \n",
        "990  \n",
        "1020  \n",
        "1050  \n",
        "1080  \n",
        "1110  \n",
        "1140  \n",
        "1170  \n",
        "1200  \n",
        "1230  \n",
        "1260  \n",
        "1290  \n",
        "1320  \n",
        "1350  \n",
        "1380  \n",
        "1410  \n",
        "1440  \n",
        "1470  "
      ]
    },
    {
      "cell_type": "code",
      "execution_count": 56,
      "metadata": {
        "id": "teIAVCf0RKPV",
        "outputId": "4c2f954a-5b2c-47b0-c75f-63bd21108f8b",
        "colab": {
          "base_uri": "https://localhost:8080/"
        }
      },
      "outputs": [
        {
          "output_type": "stream",
          "name": "stdout",
          "text": [
            "510\n",
            "540\n",
            "570\n",
            "600\n",
            "630\n",
            "660\n",
            "690\n",
            "720\n",
            "750\n",
            "780\n",
            "810\n",
            "840\n",
            "870\n",
            "900\n",
            "930\n",
            "960\n",
            "990\n",
            "1020\n",
            "1050\n",
            "1080\n",
            "1110\n",
            "1140\n",
            "1170\n",
            "1200\n",
            "1230\n",
            "1260\n",
            "1290\n",
            "1320\n",
            "1350\n",
            "1380\n",
            "1410\n",
            "1440\n",
            "1470\n"
          ]
        }
      ],
      "source": [
        "def find_multiples():\n",
        "  for i in range(499, 1499):\n",
        "    if i%3 == 0 and i%10 == 0:\n",
        "      print(i)\n",
        "find_multiples()\n"
      ]
    }
  ],
  "metadata": {
    "colab": {
      "provenance": []
    },
    "kernelspec": {
      "display_name": "Python 3",
      "name": "python3"
    },
    "language_info": {
      "name": "python"
    }
  },
  "nbformat": 4,
  "nbformat_minor": 0
}

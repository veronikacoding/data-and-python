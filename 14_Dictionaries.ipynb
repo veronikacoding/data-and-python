{
  "nbformat": 4,
  "nbformat_minor": 0,
  "metadata": {
    "colab": {
      "name": "Worksheet - Dictionaries.ipynb",
      "provenance": [],
      "include_colab_link": true
    },
    "kernelspec": {
      "name": "python3",
      "display_name": "Python 3"
    },
    "language_info": {
      "name": "python"
    }
  },
  "cells": [
    {
      "cell_type": "markdown",
      "metadata": {
        "id": "view-in-github",
        "colab_type": "text"
      },
      "source": [
        "<a href=\"https://colab.research.google.com/github/veronikacoding/data-and-python/blob/main/14_Dictionaries.ipynb\" target=\"_parent\"><img src=\"https://colab.research.google.com/assets/colab-badge.svg\" alt=\"Open In Colab\"/></a>"
      ]
    },
    {
      "cell_type": "markdown",
      "metadata": {
        "id": "AiiF1h2X4PHP"
      },
      "source": [
        "# Dictionaries\n",
        "\n",
        "---\n",
        "\n",
        "A **dictionary** is a collection of dissimilar data stored together in one *record*. Each item of data has a  (or key) that describes its paired value.  \n",
        "\n",
        "Create a dictionary object by declaring the set of keys and values, e.g.:\n",
        "\n",
        "```\n",
        "   transport = {\n",
        "       \"type\":\"bus\",\n",
        "       \"numPassengers\":72,\n",
        "       \"colour\":\"blue\",\n",
        "       \"fuel\":\"diesel\"\n",
        "   }\n",
        "```\n",
        "\n",
        "To access a value in a dictionary, use its key:  \n",
        "\n",
        "```\n",
        "transport[\"type\"] = \"coach\"\n",
        "transport_type = transport[\"type\"]\n",
        "transport_colour = transport[\"colour\"]\n",
        "transport[\"fuel\"] = petrol\n",
        "```\n",
        "\n",
        "To add a new key/value pair to a dictionary, simply assign a value to a new key:  \n",
        "```\n",
        "transport[\"seats\"] = 54\n",
        "```\n",
        "\n",
        "The transport dictionary will now look like this:  \n",
        "```\n",
        "   transport = {\n",
        "       \"type\":\"bus\",\n",
        "       \"numPassengers\":72,\n",
        "       \"colour\":\"blue\",\n",
        "       \"fuel\":\"diesel\",\n",
        "       \"seats\":54\n",
        "   }\n",
        "```\n",
        "\n"
      ]
    },
    {
      "cell_type": "markdown",
      "metadata": {
        "id": "1uZ5kNWB6CqK"
      },
      "source": [
        "---\n",
        "### Exercise 1 - print dictionary\n",
        "\n",
        "Write a function which will:  \n",
        "\n",
        "*  create an empty dictionary for a person (name, age and postcode, with values \"\", 0 and \"\")\n",
        "*  ask the user for name, age and postcode and assign the values to the correct keys in the dictionary  \n",
        "*  print the dictionary\n",
        "\n",
        "Test input:  \n",
        "Jack Jones  \n",
        "16  \n",
        "AB5 3DF  \n",
        "\n",
        "Expected output:  \n",
        "```{'name':'Jack Jones', 'age':16, 'postcode':'AB5 3DF'}```"
      ]
    },
    {
      "cell_type": "code",
      "metadata": {
        "id": "Ac7VQTj94Mrc",
        "outputId": "17329038-7cb4-4356-f58e-4374daf0ea76",
        "colab": {
          "base_uri": "https://localhost:8080/"
        }
      },
      "source": [
        "def call_personal_attributes():\n",
        "  personal_attributes = {\n",
        "      \"name\":\"\",\n",
        "      \"age\": 0,\n",
        "      \"postcode\":\"\"\n",
        "  }\n",
        "  name = input(\"Please enter your name: \")\n",
        "  age = int(input(\"Please enter your age: \"))\n",
        "  postcode = input(\"Please enter your postcode: \")\n",
        "  personal_attributes[\"name\"] = name\n",
        "  personal_attributes[\"age\"] = age\n",
        "  personal_attributes[\"postcode\"] = postcode\n",
        "  print(personal_attributes)\n",
        "\n",
        "call_personal_attributes()"
      ],
      "execution_count": null,
      "outputs": [
        {
          "output_type": "stream",
          "name": "stdout",
          "text": [
            "Please enter your name: Jack Jones\n",
            "Please enter your age: 16\n",
            "Please enter your postcode: AB5 3DF\n",
            "{'name': 'Jack Jones', 'age': 16, 'postcode': 'AB5 3DF'}\n"
          ]
        }
      ]
    },
    {
      "cell_type": "markdown",
      "metadata": {
        "id": "0OtNqNKv7WKm"
      },
      "source": [
        "---\n",
        "### Exercise 2 - create a dictionary\n",
        "\n",
        "Write a function that will create two dictionaries,without values:  \n",
        "\n",
        "1.  person (with keys firstname, surname, birthdate, postcode)  \n",
        "2.  car (with key/value pairs as follows:  make - Vauxhall, model - Corsa, engineSize - 1199, fuelType - unleaded, num_doors - 4)  \n",
        "\n",
        "*   ask the user to enter the values for the person dictionary  \n",
        "*   print, on one line, the person's name from the person dictionary and the make of the car from the car dictionary.\n",
        "\n",
        "Test input:  \n",
        "Jack  \n",
        "Jones  \n",
        "2005/02/02    \n",
        "AB5 3DF  \n",
        "\n",
        "Expected output:  \n",
        "Jack Jones Vauxhall"
      ]
    },
    {
      "cell_type": "code",
      "metadata": {
        "id": "ZyqhaBCC-GdI",
        "outputId": "b2b56e1b-47a6-4780-f9df-619c38fe2497",
        "colab": {
          "base_uri": "https://localhost:8080/"
        }
      },
      "source": [
        "def get_person_and_car():\n",
        "  person = {\n",
        "      \"firstname\":\"\",\n",
        "      \"surname\":\"\",\n",
        "      \"birthdate\":\"\",\n",
        "      \"postcode\":\"\"\n",
        "  }\n",
        "  car ={\n",
        "      \"make\":\"Vauxhall\",\n",
        "      \"model\":\"Corsa\",\n",
        "      \"engineSize\":1199,\n",
        "      \"fuelType\":\"unleaded\",\n",
        "      \"num_doors\":4\n",
        "  }\n",
        "  firstname = input(\"What is your first name?: \")\n",
        "  surname = input(\"What is your surname?: \")\n",
        "  birthdate = input(\"What is your birthday?: \")\n",
        "  postcode = input(\"What is your postcode?: \")\n",
        "  person[\"firstname\"] = firstname\n",
        "  person[\"surname\"] = surname\n",
        "  person[\"birthdate\"] = birthdate\n",
        "  person[\"postcode\"] = postcode\n",
        "\n",
        "  print(person[\"firstname\"], person[\"surname\"], car[\"make\"],end=\"\")\n",
        "\n",
        "get_person_and_car()"
      ],
      "execution_count": null,
      "outputs": [
        {
          "output_type": "stream",
          "name": "stdout",
          "text": [
            "What is your first name?: Jack\n",
            "What is your surname?: Jones\n",
            "What is your birthday?: 2005/02/02\n",
            "What is your postcode?: AB5 3DF\n",
            "Jack Jones Vauxhall"
          ]
        }
      ]
    },
    {
      "cell_type": "markdown",
      "metadata": {
        "id": "gYuuOUYw-G4I"
      },
      "source": [
        "---\n",
        "### Exercise 3 - check dictionary values\n",
        "\n",
        "Write a new function which will:\n",
        "\n",
        "*  set up the same two dictionaries as in Exercise 2  \n",
        "*  ask the user to enter the details to complete the person record  \n",
        "*  calculate the person's age  \n",
        "*  if the person is under 17 then print a message to say that they can't buy a car as they are too young to drive\n",
        "*  else if the person is under 25 then print a message to say that an engine size under 1200 is recommended  \n",
        "*  ask the user to enter the make of car that the person is looking for  \n",
        "*  if the user enters the same make as that stored in the car record, then print a message to say that you have one car of that make in stock and print all the details of the car that you have the record for\n",
        "*  else (if the user enters any other car make) then print a message to say sorry that you don't have any cars of that make in stock\n",
        "*  print a message to say that the user can get more details for stockist in the <user's postcode> area if they call 01234567890\n",
        "*  print a message to say \"Thank you <user's name> for using our site\"  \n",
        "\n",
        "Test input:  \n",
        "Jack  \n",
        "Jones  \n",
        "2005/02/02  \n",
        "AB5 3DF  \n",
        "Vauxhall  \n",
        "\n",
        "Expected output:  \n",
        "You are too young to drive\n",
        "\n",
        "Test input:  \n",
        "John  \n",
        "Jones  \n",
        "2003/02/02  \n",
        "AB5 3DF  \n",
        "Vauxhall\n",
        "\n",
        "Expected output:  \n",
        "An engine size under 1200 is recommended  \n",
        "We have one Vauxhall in stock, details:  \n",
        "Make - Vauxhall    \n",
        "Model - Corsa    \n",
        "Engine size - 1199  \n",
        "Fuel type - unleaded   \n",
        "Number of doors - 4  \n",
        "You can get more details of stockists near AB5 3DF on 01234567890  \n",
        "Thank you John Jones for using our site.     \n",
        "\n",
        "Test input:  \n",
        "John  \n",
        "Jones  \n",
        "2003/02/02  \n",
        "AB5 3DF  \n",
        "Ford  \n",
        "\n",
        "Expected output:  \n",
        "An engine size under 1200 is recommended  \n",
        "Sorry, we don't have any of that make in stock  \n"
      ]
    },
    {
      "cell_type": "code",
      "metadata": {
        "id": "Wp9Il2JG_hDh",
        "outputId": "ba31a324-78ac-4086-b8f6-4c0cbfc35614",
        "colab": {
          "base_uri": "https://localhost:8080/"
        }
      },
      "source": [
        "import datetime\n",
        "#set up the same two dictionaries as in Exercise 2\n",
        "def get_person_and_car():\n",
        "  person = {\n",
        "      \"firstname\":\"\",\n",
        "      \"surname\":\"\",\n",
        "      \"birthdate\":\"\",\n",
        "      \"postcode\":\"\"\n",
        "  }\n",
        "  car ={\n",
        "      \"make\":\"Vauxhall\",\n",
        "      \"model\":\"Corsa\",\n",
        "      \"engineSize\":1199,\n",
        "      \"fuelType\":\"unleaded\",\n",
        "      \"num_doors\":4\n",
        "  }\n",
        "\n",
        "#ask the user to enter the details to complete the person record\n",
        "  firstname = input(\"What is your first name?: \")\n",
        "  surname = input(\"What is your surname?: \")\n",
        "  birthdate = input(\"What is your birthday?: \")\n",
        "  postcode = input(\"What is your postcode?: \")\n",
        "#ask the user to enter the make of car that the person is looking for\n",
        "  make_input_from_user = input(\"What model are you looking for?: \")\n",
        "  person[\"firstname\"] = firstname\n",
        "  person[\"surname\"] = surname\n",
        "  person[\"birthdate\"] = birthdate\n",
        "  person[\"postcode\"] = postcode\n",
        "\n",
        "#calculate the person's age\n",
        "  todays_date = datetime.date.today()\n",
        "  birthdate = datetime.datetime.strptime(birthdate, \"%Y/%m/%d\").date()\n",
        "  persons_age = todays_date.year - birthdate.year - ((todays_date.month, todays_date.day) < (birthdate.month, birthdate.day))\n",
        "\n",
        "#if the person is under 17 then print a message to say that they can't buy a car as they are too young to drive\n",
        "  if persons_age < 17:\n",
        "    print(\"You are too young to drive\")\n",
        "  elif persons_age < 25 and make_input_from_user == car[\"make\"]:\n",
        "#else if the person is under 25 then print a message to say that an engine size under 1200 is recommended\n",
        "    print(\"An engine size under 1200 is recommended\")\n",
        "\n",
        "#if the user enters the same make as that stored in the car record, then print a message to say that you have one car of that make in stock and print all the details of the car that you have the record for\n",
        "    print(\"We have one Vauxhall in stock, details:\")\n",
        "    print(\"Make - \", car[\"make\"])\n",
        "    print(\"Model - \", car[\"model\"])\n",
        "    print(\"Engine Size - \", car[\"engineSize\"])\n",
        "    print(\"Fuel type - \", car[\"fuelType\"])\n",
        "    print(\"Number of doors - \", car[\"num_doors\"])\n",
        "#print a message to say that the user can get more details for stockist in the <user's postcode> area if they call 01234567890\n",
        "    print(\"You can get more details of stockists near \", person[\"postcode\"], \"on 01234567890\")\n",
        "    print(\"Thank you\", person[\"firstname\"], person[\"surname\"], \"for using our site.\")\n",
        "#else (if the user enters any other car make) then print a message to say sorry that you don't have any cars of that make in stock\n",
        "  else:\n",
        "    print(\"An engine size under 1200 is recommended\")\n",
        "    print(\"Sorry, we don't have any of that make in stock\")\n",
        "\n",
        "get_person_and_car()"
      ],
      "execution_count": null,
      "outputs": [
        {
          "output_type": "stream",
          "name": "stdout",
          "text": [
            "What is your first name?: V\n",
            "What is your surname?: S\n",
            "What is your birthday?: 2000/02/02\n",
            "What is your postcode?: AB4 5FL\n",
            "What model are you looking for?: BMW\n",
            "An engine size under 1200 is recommended\n",
            "Sorry, we don't have any of that make in stock\n"
          ]
        }
      ]
    },
    {
      "cell_type": "markdown",
      "metadata": {
        "id": "I6dUiRwn7Gkg"
      },
      "source": [
        "---\n",
        "### Exercise 4 - print keys and values\n",
        "\n",
        "Two dictionaries have been created below.  You can print a list of the dictionary's keys using `dictionary_name.keys()` and the values using `dictionary_name.values()`\n",
        "\n",
        "Write a function which will accept a dictionary as a parameter and will:  \n",
        "*  print the dictionary keys as a list   \n",
        "*  print the dictionary values as a list  \n",
        "\n",
        "*Hint*:  you will need to cast the keys as a list (`list(dictionary_name.keys()`)  and do the same for the values.\n",
        "\n",
        "**Expected Output**\n",
        "\n",
        "Input: English  \n",
        "Output:\n",
        "['Andy', 'Angela']  \n",
        "[95, 53]  \n",
        "\n",
        "Input: Maths  \n",
        "Output:  \n",
        "['Andy', 'Angela']  \n",
        "[58, 72]\n",
        "\n",
        "\n",
        "\n"
      ]
    },
    {
      "cell_type": "code",
      "metadata": {
        "id": "FApOckhJEsMs",
        "colab": {
          "base_uri": "https://localhost:8080/"
        },
        "outputId": "59522a2e-838f-4db9-8d87-cb3a149a0a20"
      },
      "source": [
        "def display_dictionary(scores):\n",
        "  keys_list = list(scores.keys())\n",
        "  values_list = list(scores.values())\n",
        "  print(keys_list)\n",
        "  print(values_list)\n",
        "\n",
        "english_scores = {'Andy': 95, 'Angela': 53}\n",
        "maths_scores = {'Andy': 58, 'Angela': 72}\n",
        "display_dictionary(english_scores)\n",
        "display_dictionary(maths_scores)"
      ],
      "execution_count": 6,
      "outputs": [
        {
          "output_type": "stream",
          "name": "stdout",
          "text": [
            "['Andy', 'Angela']\n",
            "[95, 53]\n",
            "['Andy', 'Angela']\n",
            "[58, 72]\n"
          ]
        }
      ]
    },
    {
      "cell_type": "markdown",
      "metadata": {
        "id": "segSpkmBFSJl"
      },
      "source": [
        "---\n",
        "### Exercise 5 - add field\n",
        "\n",
        "Write a function which will:\n",
        "\n",
        "*  create a new dictionary called **science_scores** with values of 0 for both Andy and Angela\n",
        "*  update Andy's score for science to 73 and Angela's score to 73   \n",
        "*  create a new key/value pair by adding another learner to the `science_scores`  dictionary (George has a score of 55)    \n",
        "*  print the `science_scores` dictionary to check results  \n",
        "\n",
        "Expected Output\n",
        "\n",
        "{'Andy': 73, 'Angela': 73, 'George': 55}"
      ]
    },
    {
      "cell_type": "code",
      "metadata": {
        "id": "BL1JM-Z7Gttf",
        "colab": {
          "base_uri": "https://localhost:8080/"
        },
        "outputId": "e2ca1b5a-3b06-40a5-b1ad-fc6475b6725b"
      },
      "source": [
        "def create_new_dictionary():\n",
        "  science_scores = {'Andy': 0, 'Angela': 0}\n",
        "  science_scores.update({'Andy': 73, 'Angela': 73})\n",
        "  extra_scoring = {'George': 55}\n",
        "  science_scores.update(extra_scoring)\n",
        "  print(science_scores)\n",
        "create_new_dictionary()"
      ],
      "execution_count": 19,
      "outputs": [
        {
          "output_type": "stream",
          "name": "stdout",
          "text": [
            "{'Andy': 73, 'Angela': 73, 'George': 55}\n",
            "dict_items([('Andy', 73), ('Angela', 73), ('George', 55)])\n"
          ]
        }
      ]
    },
    {
      "cell_type": "markdown",
      "metadata": {
        "id": "_Vzv0zlHGt-C"
      },
      "source": [
        "---\n",
        "### Exercise 6 - loop through keys/value pairs\n",
        "\n",
        "Write a function which will use a *for* loop to print the each key/value pair in the science dictionary (recreate this dictionary in this function)\n",
        "\n",
        "*(Hint: you can iterate through the key/value pairs in the dictionary in the same way as you iterate through a loop (e.g. for record in dictionary) and print the record (which is the key) and its value)*\n",
        "\n",
        "Expected output:  \n",
        "\n",
        "Angela 72  \n",
        "Andy 72  \n",
        "George 55  "
      ]
    },
    {
      "cell_type": "code",
      "metadata": {
        "id": "JL40_-W-Hxnt",
        "colab": {
          "base_uri": "https://localhost:8080/"
        },
        "outputId": "f2129623-2856-4d95-af7d-faae7bb025b5"
      },
      "source": [
        "def looping_dictionary():\n",
        "  science_dictionary = {'Angela': 72, 'Andy': 72, 'George': 55}\n",
        "  for key, value in science_dictionary.items():\n",
        "    print(key, value)\n",
        "\n",
        "looping_dictionary()"
      ],
      "execution_count": 18,
      "outputs": [
        {
          "output_type": "stream",
          "name": "stdout",
          "text": [
            "Angela 72\n",
            "Andy 72\n",
            "George 55\n"
          ]
        }
      ]
    },
    {
      "cell_type": "markdown",
      "metadata": {
        "id": "G9wamxzRJdrE"
      },
      "source": [
        "---\n",
        "### Exercise 7 - generate new dictionary  \n",
        "\n",
        "Write a functions which will:\n",
        "*  create a new dictionary where the keys are numbers between 1 and 15 (both included) and the values are square of keys\n",
        "*  print the dictionary\n",
        "\n",
        "Expected output:  \n",
        "{1: 1, 2: 4, 3: 9, 4: 16, 5: 25, 6: 36, 7: 49, 8: 64, 9: 81, 10: 100, 11: 121, 12: 144, 13: 169, 14: 196, 15: 225}"
      ]
    },
    {
      "cell_type": "code",
      "metadata": {
        "id": "1-LI-LVrJ--N",
        "colab": {
          "base_uri": "https://localhost:8080/"
        },
        "outputId": "0f30fcac-af78-48e2-b162-39271ca3301d"
      },
      "source": [
        "def create_dictionary_for_square_of_keys():\n",
        "  square_of_keys_dictionary = {}\n",
        "  for i in range(1, 16):\n",
        "    square_of_keys_dictionary[i] = i**2\n",
        "  print(square_of_keys_dictionary)\n",
        "\n",
        "create_dictionary_for_square_of_keys()"
      ],
      "execution_count": 20,
      "outputs": [
        {
          "output_type": "stream",
          "name": "stdout",
          "text": [
            "{1: 1, 2: 4, 3: 9, 4: 16, 5: 25, 6: 36, 7: 49, 8: 64, 9: 81, 10: 100, 11: 121, 12: 144, 13: 169, 14: 196, 15: 225}\n"
          ]
        }
      ]
    },
    {
      "cell_type": "markdown",
      "metadata": {
        "id": "t0y4mefwJ_jQ"
      },
      "source": [
        "---\n",
        "### Exercise 8 - colour dictionary  \n",
        "\n",
        "Write a function which will:  \n",
        "*  create a new dictionary record called colour_codes with the values 'red' - '#FF0000', 'green' - '#008000', 'black' - '#000000', 'white' - '#FFFFFF'\n",
        "*  add a new colour code:  'blue' - '#0000FF'    \n",
        "*  remove the colours black and white from the dictionary  \n",
        "\n",
        "*Hint:  there is a list of methods [here](https://www.w3schools.com/python/python_ref_dictionary.asp)*  "
      ]
    },
    {
      "cell_type": "code",
      "metadata": {
        "id": "yod1mUNOMeWg",
        "colab": {
          "base_uri": "https://localhost:8080/"
        },
        "outputId": "a293cb13-4473-4ba8-abb2-2fb275b2f677"
      },
      "source": [
        "def get_colour_dictionary():\n",
        "  colour_dictionary = {\n",
        "      'red':'#FF0000',\n",
        "      'green':'#008000',\n",
        "      'black':'#000000',\n",
        "      'white':'#FFFFFF'\n",
        "  }\n",
        "  new_colour = {'blue':'#0000FF'}\n",
        "  colour_dictionary.update(new_colour)\n",
        "  colour_dictionary.pop('white')\n",
        "  colour_dictionary.pop('black')\n",
        "  print(colour_dictionary)\n",
        "\n",
        "get_colour_dictionary()"
      ],
      "execution_count": 25,
      "outputs": [
        {
          "output_type": "stream",
          "name": "stdout",
          "text": [
            "{'red': '#FF0000', 'green': '#008000', 'blue': '#0000FF'}\n"
          ]
        }
      ]
    },
    {
      "cell_type": "markdown",
      "metadata": {
        "id": "gjos_0vuMeyS"
      },
      "source": [
        "---\n",
        "### Exercise 9 - item tuples  \n",
        "\n",
        "Write a function which will:  \n",
        "*  create a new dictionary containing the colour codes for red, green, blue, black and white\n",
        "*  print the key/value pairs of a dictionary as a list of tuples  \n",
        "\n",
        "*Hint:  iterate through colours.items()*"
      ]
    },
    {
      "cell_type": "code",
      "metadata": {
        "id": "EzuMkUypOKTY",
        "colab": {
          "base_uri": "https://localhost:8080/"
        },
        "outputId": "783660d3-6a7a-4be1-c35e-1c2f5114455a"
      },
      "source": [
        "def creating_dict_as_a_list_as_tuples():\n",
        "  colours = {\n",
        "      'red':'#FF0000',\n",
        "      'green':'#008000',\n",
        "      'blue':'#0000FF',\n",
        "      'black':'#000000',\n",
        "      'white':'#FFFFFF'\n",
        "  }\n",
        "  tuples_list = list(colours.items())\n",
        "  print(tuples_list)\n",
        "\n",
        "creating_dict_as_a_list_as_tuples()"
      ],
      "execution_count": 33,
      "outputs": [
        {
          "output_type": "stream",
          "name": "stdout",
          "text": [
            "[('red', '#FF0000'), ('green', '#008000'), ('blue', '#0000FF'), ('black', '#000000'), ('white', '#FFFFFF')]\n"
          ]
        }
      ]
    },
    {
      "cell_type": "markdown",
      "metadata": {
        "id": "Jw1ot10cOc6r"
      },
      "source": [
        "---\n",
        "### Exercise 10 - check if empty\n",
        "Taken from w3resouce.com  \n",
        "\n",
        "Write a function which will check if a dictionary is empty or not\n",
        "\n",
        "*Hint:  you can use bool(dictionary_name), if the dictionary is empty then bool(dictionary_name will be false)*\n",
        "\n",
        "Test 1 sample data:\n",
        "{}\n",
        "\n",
        "Expected output:\n",
        "Dictionary is empty  \n",
        "\n",
        "Test 2 sample data:  \n",
        "{\"name\":\"Groucho\", \"occupation\":\"comedian\"}\n",
        "\n",
        "Expected output:  \n",
        "Dictionary is not empty"
      ]
    },
    {
      "cell_type": "code",
      "metadata": {
        "id": "7UdM1TfwRqnt",
        "colab": {
          "base_uri": "https://localhost:8080/"
        },
        "outputId": "469286a3-b648-47d4-e7de-7866772183ac"
      },
      "source": [
        "def is_empty():\n",
        "  sample_data_one = {}\n",
        "  bool(sample_data_one)\n",
        "  False\n",
        "  not sample_data_one\n",
        "  True\n",
        "  print(bool(sample_data_one))\n",
        "  sample_data_two = {\"name\":\"Groucho\", \"occupation\":\"comedian\"}\n",
        "  bool(sample_data_two)\n",
        "  False\n",
        "  not sample_data_two\n",
        "  True\n",
        "  print(bool(sample_data_two))\n",
        "\n",
        "is_empty()"
      ],
      "execution_count": 29,
      "outputs": [
        {
          "output_type": "stream",
          "name": "stdout",
          "text": [
            "False\n",
            "True\n"
          ]
        }
      ]
    }
  ]
}
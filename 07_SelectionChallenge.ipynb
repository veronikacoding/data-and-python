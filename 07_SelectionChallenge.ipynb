{
  "nbformat": 4,
  "nbformat_minor": 0,
  "metadata": {
    "colab": {
      "name": "SelectionChallenge.ipynb",
      "provenance": [],
      "include_colab_link": true
    },
    "kernelspec": {
      "name": "python3",
      "display_name": "Python 3"
    }
  },
  "cells": [
    {
      "cell_type": "markdown",
      "metadata": {
        "id": "view-in-github",
        "colab_type": "text"
      },
      "source": [
        "<a href=\"https://colab.research.google.com/github/veronikacoding/data-and-python/blob/main/07_SelectionChallenge.ipynb\" target=\"_parent\"><img src=\"https://colab.research.google.com/assets/colab-badge.svg\" alt=\"Open In Colab\"/></a>"
      ]
    },
    {
      "cell_type": "markdown",
      "metadata": {
        "id": "-QxAKPD8DZfj"
      },
      "source": [
        "# Three selection challenges\n",
        "\n",
        "---\n"
      ]
    },
    {
      "cell_type": "markdown",
      "metadata": {
        "id": "2KYUALILDcM9"
      },
      "source": [
        "### Challenge 1 - password format  \n",
        "\n",
        "Write a function called **check_password_valid()** which will check the validity of a **password** input by a user.\n",
        "\n",
        "Rules for a valid password are:  \n",
        "\n",
        "*  At least 1 letter between [a-z] and 1 letter between [A-Z].\n",
        "*  At least 1 number between [0-9].\n",
        "*  At least 1 character from [$#@].\n",
        "*  Minimum length 6 characters.\n",
        "*  Maximum length 16 characters.  \n",
        "\n",
        "Let the user know if the `password` they have typed is valid and, if not, where was the first error.\n",
        "\n",
        "*Hint:  to test if a set of characters is present in a password String, you can use re.search('[character set]', `password`)*  \n",
        "\n",
        "Example:   \n",
        "*if re.search('[a-z]',`password`):*    \n",
        "if there is at least 1 character a-z in the password, re.search will not be None.\n",
        "\n",
        "**re** is a pre-written Python function for pattern searching in Strings.  It has been imported for you in the code cell below.  "
      ]
    },
    {
      "cell_type": "code",
      "metadata": {
        "id": "8wBK9IA4BO2e",
        "outputId": "3b57e6de-caf0-4595-b1ba-1f0604c0e4c5",
        "colab": {
          "base_uri": "https://localhost:8080/"
        }
      },
      "source": [
        "import re\n",
        "\n",
        "# add your check_PasswordValid() function and call below here\n",
        "def check_password_valid():\n",
        "  password = input(\"Enter a password: \")\n",
        "  if not re.search('[a-z]', password):\n",
        "    print(\"Your password needs a lower case letter\")\n",
        "  if not re.search('[A-Z]', password):\n",
        "    print(\"Your password needs an upper case letter\")\n",
        "  if not re.search('[0-9]', password):\n",
        "    print(\"Your password needs a number in it\")\n",
        "  if not re.search('[$#@]', password):\n",
        "    print(\"Your password needs a special character in it, choose between these three: $#@ \")\n",
        "  if not len(password) >= 6:\n",
        "     print(\"Your password is too short\")\n",
        "  if not len(password) <=16:\n",
        "    print(\"Your password is too long\")\n",
        "  else:\n",
        "    print(\"Your password is valid\")\n",
        "\n",
        "check_password_valid()\n",
        "\n",
        "\n"
      ],
      "execution_count": null,
      "outputs": [
        {
          "output_type": "stream",
          "name": "stdout",
          "text": [
            "Enter a password: Hey\n",
            "Your password needs a number in it\n",
            "Your password needs a special character in it, choose between these three: $#@ \n",
            "Your password is too short\n"
          ]
        }
      ]
    },
    {
      "cell_type": "markdown",
      "metadata": {
        "id": "f0R4GYTEFQS-"
      },
      "source": [
        "---\n",
        "### Challenge 2 - triangle shape  \n",
        "\n",
        "Write a function called **evaluate_triangle_shape()** which will check if a triangle is equilateral, isosceles or scalene, based on the three side lengths entered by a user (**x**, **y** and **z**.\n",
        "\n",
        "An equilateral triangle is a triangle in which all three sides are equal.\n",
        "A scalene triangle is a triangle that has three unequal sides.\n",
        "An isosceles triangle is a triangle with (at least) two equal sides.\n",
        "\n",
        "For example:  \n",
        "A triange with side lengths                                 \n",
        "x: 6                                                                    \n",
        "y: 8                                                                    \n",
        "z: 12                                                                   \n",
        "is a *Scalene triangle*\n",
        "\n",
        "A triangle with side lengths\n",
        "x:5  \n",
        "y:3   \n",
        "z:5  \n",
        "is an *Isosceles triangle*"
      ]
    },
    {
      "cell_type": "code",
      "metadata": {
        "id": "oBgl4ro1DVL0",
        "outputId": "d8dacc5e-1288-4b21-8692-aab329390d5c",
        "colab": {
          "base_uri": "https://localhost:8080/"
        }
      },
      "source": [
        "def evaluate_triangle_shape():\n",
        "  x = int(input(\"Number: \"))\n",
        "  y = int(input(\"Number: \"))\n",
        "  z = int(input(\"Number: \"))\n",
        "  if x == y and x == z:\n",
        "    print(\"It is an Equilateral triangle\")\n",
        "  elif x == y or x == z:\n",
        "    print(\"It is an Isosceles triangle\")\n",
        "  else:\n",
        "    print(\"It is an Scalene triangle\")\n",
        "\n",
        "evaluate_triangle_shape()"
      ],
      "execution_count": null,
      "outputs": [
        {
          "output_type": "stream",
          "name": "stdout",
          "text": [
            "Number: 6\n",
            "Number: 6\n",
            "Number: 6\n",
            "It is an Equilateral triangle\n"
          ]
        }
      ]
    },
    {
      "cell_type": "markdown",
      "metadata": {
        "id": "hr2EotkqG33l"
      },
      "source": [
        "---\n",
        "### Challenge 3 - which season\n",
        "\n",
        "Write a function called **determine_season()** which will ask the user to enter two integers representing a **month** and **day** and prints the season for that month and day.\n",
        "\n",
        "Note:  for this exercise the season dates are:\n",
        "*  Winter December 21 to March 20    \n",
        "*  Spring March 21 to June 20  \n",
        "*  Summer June 21 to September 20  \n",
        "*  Autumn September 21 to December 20\n",
        "\n",
        "Test input:  \n",
        "Input the month (e.g. January, February etc.): 7                     \n",
        "Input the day: 31                                                       \n",
        "\n",
        "Expected output:  \n",
        "Season is summer\n",
        "\n",
        "*Note: this will require multiple and or or operators and you should use brackets to help Python know which operations to do first*  \n",
        "\n",
        "*For an extra challenge you can check that the day is valid for the month*"
      ]
    },
    {
      "cell_type": "code",
      "metadata": {
        "id": "cvbfz8nzG4IL",
        "outputId": "02cfe328-3ba3-4a4a-aff4-ab839be5b059",
        "colab": {
          "base_uri": "https://localhost:8080/"
        }
      },
      "source": [
        "def determine_season():\n",
        "  month = int(input(\"Enter a month in number: \"))\n",
        "  day = int(input(\"Enter a day in number: \"))\n",
        "  if (month == 3 and day >= 21) or (month == 4 or month == 5) or (month == 6 and day <=20):\n",
        "    print(\"Season is Spring\")\n",
        "  elif (month == 6 and day >= 21) or (month == 7 or month == 8) or (month == 9 and day <=20):\n",
        "    print(\"Season is Summer\")\n",
        "  elif (month == 9 and day >= 21) or (month == 10 or month == 11) or (month == 12 and day <=20):\n",
        "    print(\"Season is Autumn\")\n",
        "  elif (month == 12 and day >= 21) or (month == 1 or month == 2) or (month == 331 and day <=20):\n",
        "    print(\"Season is Winter\")\n",
        "\n",
        "determine_season()"
      ],
      "execution_count": null,
      "outputs": [
        {
          "output_type": "stream",
          "name": "stdout",
          "text": [
            "Enter a month in number: 7\n",
            "Enter a day in number: 31\n",
            "Season is Summer\n"
          ]
        }
      ]
    }
  ]
}